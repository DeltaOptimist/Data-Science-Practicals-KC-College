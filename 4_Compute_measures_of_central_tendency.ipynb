{
  "nbformat": 4,
  "nbformat_minor": 0,
  "metadata": {
    "colab": {
      "provenance": []
    },
    "kernelspec": {
      "name": "python3",
      "display_name": "Python 3"
    },
    "language_info": {
      "name": "python"
    }
  },
  "cells": [
    {
      "cell_type": "markdown",
      "source": [
        "Practical to Implement: Compute measures of central tendency (mean, median, mode) and  \n",
        "dispersion (variance, standard deviation)."
      ],
      "metadata": {
        "id": "C3QEviZUiyFI"
      }
    },
    {
      "cell_type": "code",
      "source": [
        "import pandas as pd\n",
        "import seaborn as sns\n",
        "import numpy as np\n",
        "from scipy import stats\n"
      ],
      "metadata": {
        "id": "vD9H7Np4iy2u"
      },
      "execution_count": 1,
      "outputs": []
    },
    {
      "cell_type": "code",
      "source": [
        "# Load inbuilt dataset (Titanic)\n",
        "df = sns.load_dataset(\"titanic\")\n"
      ],
      "metadata": {
        "id": "p1DSOjIgi3eA"
      },
      "execution_count": 2,
      "outputs": []
    },
    {
      "cell_type": "code",
      "source": [
        "# Select numerical columns only\n",
        "df_numeric = df.select_dtypes(include=['number'])\n",
        "\n",
        "# Compute Measures of Central Tendency\n",
        "mean_values = df_numeric.mean()\n",
        "median_values = df_numeric.median()\n",
        "mode_values = df_numeric.mode().iloc[0]  # Mode might return multiple values, take first row\n"
      ],
      "metadata": {
        "id": "iHtTiQSai_fV"
      },
      "execution_count": 3,
      "outputs": []
    },
    {
      "cell_type": "code",
      "source": [
        "# Compute Measures of Dispersion\n",
        "variance_values = df_numeric.var()\n",
        "std_dev_values = df_numeric.std()\n",
        "\n"
      ],
      "metadata": {
        "id": "97FcPj15jBmh"
      },
      "execution_count": 4,
      "outputs": []
    },
    {
      "cell_type": "code",
      "source": [
        "# Display results\n",
        "print(\"Mean Values:\\n\", mean_values)\n",
        "print(\"\\nMedian Values:\\n\", median_values)\n",
        "print(\"\\nMode Values:\\n\", mode_values)\n",
        "print(\"\\nVariance Values:\\n\", variance_values)\n",
        "print(\"\\nStandard Deviation Values:\\n\", std_dev_values)\n"
      ],
      "metadata": {
        "colab": {
          "base_uri": "https://localhost:8080/"
        },
        "id": "OcrUXiY8jCnk",
        "outputId": "423c2bf3-5606-4db5-8aef-5cdf231b4f0b"
      },
      "execution_count": 5,
      "outputs": [
        {
          "output_type": "stream",
          "name": "stdout",
          "text": [
            "Mean Values:\n",
            " survived     0.383838\n",
            "pclass       2.308642\n",
            "age         29.699118\n",
            "sibsp        0.523008\n",
            "parch        0.381594\n",
            "fare        32.204208\n",
            "dtype: float64\n",
            "\n",
            "Median Values:\n",
            " survived     0.0000\n",
            "pclass       3.0000\n",
            "age         28.0000\n",
            "sibsp        0.0000\n",
            "parch        0.0000\n",
            "fare        14.4542\n",
            "dtype: float64\n",
            "\n",
            "Mode Values:\n",
            " survived     0.00\n",
            "pclass       3.00\n",
            "age         24.00\n",
            "sibsp        0.00\n",
            "parch        0.00\n",
            "fare         8.05\n",
            "Name: 0, dtype: float64\n",
            "\n",
            "Variance Values:\n",
            " survived       0.236772\n",
            "pclass         0.699015\n",
            "age          211.019125\n",
            "sibsp          1.216043\n",
            "parch          0.649728\n",
            "fare        2469.436846\n",
            "dtype: float64\n",
            "\n",
            "Standard Deviation Values:\n",
            " survived     0.486592\n",
            "pclass       0.836071\n",
            "age         14.526497\n",
            "sibsp        1.102743\n",
            "parch        0.806057\n",
            "fare        49.693429\n",
            "dtype: float64\n"
          ]
        }
      ]
    },
    {
      "cell_type": "code",
      "source": [],
      "metadata": {
        "id": "fjDkzc4GjC8V"
      },
      "execution_count": null,
      "outputs": []
    }
  ]
}