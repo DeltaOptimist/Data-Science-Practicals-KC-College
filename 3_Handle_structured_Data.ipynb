{
  "nbformat": 4,
  "nbformat_minor": 0,
  "metadata": {
    "colab": {
      "provenance": []
    },
    "kernelspec": {
      "name": "python3",
      "display_name": "Python 3"
    },
    "language_info": {
      "name": "python"
    }
  },
  "cells": [
    {
      "cell_type": "markdown",
      "source": [
        "Practical to Demonstrate: Handle structured (CSV), semi-structured (JSON), and\n",
        "unstructured data (text files) to understand differences."
      ],
      "metadata": {
        "id": "rwmK1ZMmiJf2"
      }
    },
    {
      "cell_type": "code",
      "source": [
        "import json\n",
        "import pandas as pd\n",
        "import seaborn as sns\n",
        "import nltk\n",
        "from nltk.corpus import gutenberg\n"
      ],
      "metadata": {
        "id": "FWhp8xu5iLB4"
      },
      "execution_count": 1,
      "outputs": []
    },
    {
      "cell_type": "code",
      "source": [
        "# Handling Structured Data (CSV) - Using Seaborn's Titanic dataset\n",
        "df_csv = sns.load_dataset(\"titanic\")  # Load inbuilt Titanic dataset\n",
        "print(\"\\nStructured Data (CSV):\\n\", df_csv.head())\n",
        "\n",
        "# Handling Semi-Structured Data (JSON) - Using Sample JSON Dictionary\n",
        "data_json = {\n",
        "    \"name\": \"John Doe\",\n",
        "    \"age\": 30,\n",
        "    \"city\": \"New York\",\n",
        "    \"skills\": [\"Python\", \"Data Science\", \"Machine Learning\"]\n",
        "}\n",
        "df_json = pd.json_normalize(data_json)  # Convert JSON to DataFrame\n",
        "print(\"\\nSemi-Structured Data (JSON):\\n\", df_json)\n",
        "\n",
        "# Handling Unstructured Data (Text) - Using NLTK Gutenberg Corpus\n",
        "nltk.download('gutenberg')\n",
        "text_data = gutenberg.raw('shakespeare-hamlet.txt')  # Load Hamlet text\n",
        "print(\"\\nUnstructured Data (Text File):\\n\", text_data[:200])  # Show first 200 characters\n"
      ],
      "metadata": {
        "colab": {
          "base_uri": "https://localhost:8080/"
        },
        "id": "AfsPv5N9iO8A",
        "outputId": "05701019-a1ba-49ea-c23f-c5e964f831b4"
      },
      "execution_count": 2,
      "outputs": [
        {
          "output_type": "stream",
          "name": "stdout",
          "text": [
            "\n",
            "Structured Data (CSV):\n",
            "    survived  pclass     sex   age  sibsp  parch     fare embarked  class  \\\n",
            "0         0       3    male  22.0      1      0   7.2500        S  Third   \n",
            "1         1       1  female  38.0      1      0  71.2833        C  First   \n",
            "2         1       3  female  26.0      0      0   7.9250        S  Third   \n",
            "3         1       1  female  35.0      1      0  53.1000        S  First   \n",
            "4         0       3    male  35.0      0      0   8.0500        S  Third   \n",
            "\n",
            "     who  adult_male deck  embark_town alive  alone  \n",
            "0    man        True  NaN  Southampton    no  False  \n",
            "1  woman       False    C    Cherbourg   yes  False  \n",
            "2  woman       False  NaN  Southampton   yes   True  \n",
            "3  woman       False    C  Southampton   yes  False  \n",
            "4    man        True  NaN  Southampton    no   True  \n",
            "\n",
            "Semi-Structured Data (JSON):\n",
            "        name  age      city                                    skills\n",
            "0  John Doe   30  New York  [Python, Data Science, Machine Learning]\n"
          ]
        },
        {
          "output_type": "stream",
          "name": "stderr",
          "text": [
            "[nltk_data] Downloading package gutenberg to /root/nltk_data...\n",
            "[nltk_data]   Unzipping corpora/gutenberg.zip.\n"
          ]
        },
        {
          "output_type": "stream",
          "name": "stdout",
          "text": [
            "\n",
            "Unstructured Data (Text File):\n",
            " [The Tragedie of Hamlet by William Shakespeare 1599]\n",
            "\n",
            "\n",
            "Actus Primus. Scoena Prima.\n",
            "\n",
            "Enter Barnardo and Francisco two Centinels.\n",
            "\n",
            "  Barnardo. Who's there?\n",
            "  Fran. Nay answer me: Stand & vnfold\n",
            "your sel\n"
          ]
        }
      ]
    },
    {
      "cell_type": "code",
      "source": [],
      "metadata": {
        "id": "1C9YOxFJiUPI"
      },
      "execution_count": null,
      "outputs": []
    }
  ]
}