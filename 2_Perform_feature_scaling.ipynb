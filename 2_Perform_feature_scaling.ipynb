{
  "nbformat": 4,
  "nbformat_minor": 0,
  "metadata": {
    "colab": {
      "provenance": []
    },
    "kernelspec": {
      "name": "python3",
      "display_name": "Python 3"
    },
    "language_info": {
      "name": "python"
    }
  },
  "cells": [
    {
      "cell_type": "markdown",
      "source": [
        "Practical to Implement: Perform feature scaling (standardization, normalization) and\n",
        "transformation on a numerical dataset."
      ],
      "metadata": {
        "id": "VCmdr79whkSh"
      }
    },
    {
      "cell_type": "code",
      "source": [
        "from sklearn.datasets import load_diabetes\n",
        "from sklearn.preprocessing import StandardScaler, MinMaxScaler, PowerTransformer\n",
        "import pandas as pd\n",
        "import numpy as np\n",
        "\n",
        "# Load inbuilt dataset (Diabetes dataset)\n",
        "data = load_diabetes()\n",
        "df = pd.DataFrame(data.data, columns=data.feature_names)\n",
        "\n",
        "# Standardization (Z-score)\n",
        "scaler_standard = StandardScaler()\n",
        "df_standardized = pd.DataFrame(scaler_standard.fit_transform(df), columns=df.columns)\n",
        "\n",
        "# Normalization (Min-Max Scaling)\n",
        "scaler_minmax = MinMaxScaler()\n",
        "df_normalized = pd.DataFrame(scaler_minmax.fit_transform(df), columns=df.columns)\n",
        "\n",
        "# Log Transformation (for skewed data)\n",
        "df_transformed = df.copy()\n",
        "df_transformed = df_transformed.apply(lambda x: np.log1p(x))\n",
        "\n",
        "print(\"\\nOriginal Data (first 5 rows):\\n\", df.head())\n",
        "print(\"\\nStandardized Data:\\n\", df_standardized.head())\n",
        "print(\"\\nNormalized Data:\\n\", df_normalized.head())\n",
        "print(\"\\nLog Transformed Data:\\n\", df_transformed.head())\n"
      ],
      "metadata": {
        "colab": {
          "base_uri": "https://localhost:8080/"
        },
        "id": "IXOelUEEhmNW",
        "outputId": "0b230e48-7e71-402e-832e-1568c347acb1"
      },
      "execution_count": 1,
      "outputs": [
        {
          "output_type": "stream",
          "name": "stdout",
          "text": [
            "\n",
            "Original Data (first 5 rows):\n",
            "         age       sex       bmi        bp        s1        s2        s3  \\\n",
            "0  0.038076  0.050680  0.061696  0.021872 -0.044223 -0.034821 -0.043401   \n",
            "1 -0.001882 -0.044642 -0.051474 -0.026328 -0.008449 -0.019163  0.074412   \n",
            "2  0.085299  0.050680  0.044451 -0.005670 -0.045599 -0.034194 -0.032356   \n",
            "3 -0.089063 -0.044642 -0.011595 -0.036656  0.012191  0.024991 -0.036038   \n",
            "4  0.005383 -0.044642 -0.036385  0.021872  0.003935  0.015596  0.008142   \n",
            "\n",
            "         s4        s5        s6  \n",
            "0 -0.002592  0.019907 -0.017646  \n",
            "1 -0.039493 -0.068332 -0.092204  \n",
            "2 -0.002592  0.002861 -0.025930  \n",
            "3  0.034309  0.022688 -0.009362  \n",
            "4 -0.002592 -0.031988 -0.046641  \n",
            "\n",
            "Standardized Data:\n",
            "         age       sex       bmi        bp        s1        s2        s3  \\\n",
            "0  0.800500  1.065488  1.297088  0.459841 -0.929746 -0.732065 -0.912451   \n",
            "1 -0.039567 -0.938537 -1.082180 -0.553505 -0.177624 -0.402886  1.564414   \n",
            "2  1.793307  1.065488  0.934533 -0.119214 -0.958674 -0.718897 -0.680245   \n",
            "3 -1.872441 -0.938537 -0.243771 -0.770650  0.256292  0.525397 -0.757647   \n",
            "4  0.113172 -0.938537 -0.764944  0.459841  0.082726  0.327890  0.171178   \n",
            "\n",
            "         s4        s5        s6  \n",
            "0 -0.054499  0.418531 -0.370989  \n",
            "1 -0.830301 -1.436589 -1.938479  \n",
            "2 -0.054499  0.060156 -0.545154  \n",
            "3  0.721302  0.476983 -0.196823  \n",
            "4 -0.054499 -0.672502 -0.980568  \n",
            "\n",
            "Normalized Data:\n",
            "         age  sex       bmi        bp        s1        s2        s3        s4  \\\n",
            "0  0.666667  1.0  0.582645  0.549296  0.294118  0.256972  0.207792  0.282087   \n",
            "1  0.483333  0.0  0.148760  0.352113  0.421569  0.306773  0.623377  0.141044   \n",
            "2  0.883333  1.0  0.516529  0.436620  0.289216  0.258964  0.246753  0.282087   \n",
            "3  0.083333  0.0  0.301653  0.309859  0.495098  0.447211  0.233766  0.423131   \n",
            "4  0.516667  0.0  0.206612  0.549296  0.465686  0.417331  0.389610  0.282087   \n",
            "\n",
            "         s5        s6  \n",
            "0  0.562217  0.439394  \n",
            "1  0.222437  0.166667  \n",
            "2  0.496578  0.409091  \n",
            "3  0.572923  0.469697  \n",
            "4  0.362385  0.333333  \n",
            "\n",
            "Log Transformed Data:\n",
            "         age       sex       bmi        bp        s1        s2        s3  \\\n",
            "0  0.037369  0.049438  0.059868  0.021637 -0.045231 -0.035441 -0.044371   \n",
            "1 -0.001884 -0.045669 -0.052846 -0.026680 -0.008485 -0.019349  0.071773   \n",
            "2  0.081855  0.049438  0.043492 -0.005687 -0.046672 -0.034793 -0.032891   \n",
            "3 -0.093281 -0.045669 -0.011663 -0.037345  0.012117  0.024683 -0.036703   \n",
            "4  0.005369 -0.045669 -0.037063  0.021637  0.003927  0.015476  0.008109   \n",
            "\n",
            "         s4        s5        s6  \n",
            "0 -0.002596  0.019712 -0.017804  \n",
            "1 -0.040294 -0.070778 -0.096736  \n",
            "2 -0.002596  0.002857 -0.026272  \n",
            "3  0.033733  0.022434 -0.009406  \n",
            "4 -0.002596 -0.032510 -0.047764  \n"
          ]
        }
      ]
    },
    {
      "cell_type": "code",
      "source": [],
      "metadata": {
        "id": "l8FQC4D_hpw9"
      },
      "execution_count": null,
      "outputs": []
    }
  ]
}