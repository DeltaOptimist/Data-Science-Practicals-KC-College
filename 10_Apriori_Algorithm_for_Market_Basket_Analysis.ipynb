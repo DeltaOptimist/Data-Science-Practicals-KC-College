{
  "nbformat": 4,
  "nbformat_minor": 0,
  "metadata": {
    "colab": {
      "provenance": []
    },
    "kernelspec": {
      "name": "python3",
      "display_name": "Python 3"
    },
    "language_info": {
      "name": "python"
    }
  },
  "cells": [
    {
      "cell_type": "markdown",
      "source": [
        "Practical 10: Apriori Algorithm for Market Basket Analysis"
      ],
      "metadata": {
        "id": "IKF1yXMX6OKd"
      }
    },
    {
      "cell_type": "code",
      "execution_count": 1,
      "metadata": {
        "id": "DcUAiOMq6NO8"
      },
      "outputs": [],
      "source": [
        "import pandas as pd\n",
        "import seaborn as sns\n",
        "from itertools import combinations\n",
        "from collections import defaultdict\n",
        "\n"
      ]
    },
    {
      "cell_type": "code",
      "source": [
        "# Load inbuilt dataset\n",
        "df = sns.load_dataset('titanic')\n",
        "\n"
      ],
      "metadata": {
        "id": "VwuakW1U6fOm"
      },
      "execution_count": 2,
      "outputs": []
    },
    {
      "cell_type": "code",
      "source": [
        "# We'll treat 'passenger class', 'sex', and 'embarked' as items \"in a basket\" (like items bought together)\n",
        "df = df[['pclass', 'sex', 'embarked']].dropna()\n",
        "\n",
        "# Convert each row to a transaction (basket of categorical attributes)\n",
        "transactions = df.astype(str).values.tolist()\n",
        "\n"
      ],
      "metadata": {
        "id": "Yp1ndGB56nVK"
      },
      "execution_count": 3,
      "outputs": []
    },
    {
      "cell_type": "code",
      "source": [
        "# Step 1: Create itemsets and count frequency\n",
        "def get_frequent_itemsets(transactions, min_support=0.1):\n",
        "    item_counts = defaultdict(int)\n",
        "    transaction_list = list(map(set, transactions))\n",
        "    total_tx = len(transaction_list)\n",
        "    freq_itemsets = []\n",
        "\n",
        "    # Generate all combinations of size 1 to 3\n",
        "    for size in range(1, 4):\n",
        "        for transaction in transaction_list:\n",
        "            for itemset in combinations(transaction, size):\n",
        "                item_counts[itemset] += 1\n",
        "\n",
        "    # Filter based on min support\n",
        "    for itemset, count in item_counts.items():\n",
        "        support = count / total_tx\n",
        "        if support >= min_support:\n",
        "            freq_itemsets.append((itemset, support))\n",
        "\n",
        "    return freq_itemsets\n",
        "\n"
      ],
      "metadata": {
        "id": "OIC7extl6q01"
      },
      "execution_count": 4,
      "outputs": []
    },
    {
      "cell_type": "code",
      "source": [
        "# Step 2: Generate association rules from frequent itemsets\n",
        "def generate_rules(freq_itemsets, min_confidence=0.6):\n",
        "    rules = []\n",
        "    itemset_dict = {frozenset(k): v for k, v in freq_itemsets}\n",
        "\n",
        "    for itemset in itemset_dict:\n",
        "        if len(itemset) >= 2:\n",
        "            for i in range(1, len(itemset)):\n",
        "                for antecedent in combinations(itemset, i):\n",
        "                    antecedent = frozenset(antecedent)\n",
        "                    consequent = itemset - antecedent\n",
        "                    if consequent:\n",
        "                        confidence = itemset_dict[itemset] / itemset_dict.get(antecedent, 1)\n",
        "                        if confidence >= min_confidence:\n",
        "                            rules.append((set(antecedent), set(consequent), confidence))\n",
        "\n",
        "    return rules\n",
        "\n"
      ],
      "metadata": {
        "id": "ci0S6jQd6wM2"
      },
      "execution_count": 5,
      "outputs": []
    },
    {
      "cell_type": "code",
      "source": [
        "# Run Apriori\n",
        "frequent_itemsets = get_frequent_itemsets(transactions, min_support=0.1)\n",
        "rules = generate_rules(frequent_itemsets, min_confidence=0.6)\n",
        "\n"
      ],
      "metadata": {
        "id": "5FQy-EH76yM0"
      },
      "execution_count": 6,
      "outputs": []
    },
    {
      "cell_type": "code",
      "source": [
        "# Display results\n",
        "print(\"Frequent Itemsets:\")\n",
        "for item, support in frequent_itemsets:\n",
        "    print(f\"{set(item)}: support = {support:.2f}\")\n",
        "\n"
      ],
      "metadata": {
        "colab": {
          "base_uri": "https://localhost:8080/"
        },
        "id": "ScFNZCrW6zcq",
        "outputId": "30bb48a2-a6f7-4ce2-ae23-4ba1743bef72"
      },
      "execution_count": 7,
      "outputs": [
        {
          "output_type": "stream",
          "name": "stdout",
          "text": [
            "Frequent Itemsets:\n",
            "{'S'}: support = 0.72\n",
            "{'3'}: support = 0.55\n",
            "{'male'}: support = 0.65\n",
            "{'C'}: support = 0.19\n",
            "{'1'}: support = 0.24\n",
            "{'female'}: support = 0.35\n",
            "{'2'}: support = 0.21\n",
            "{'S', '3'}: support = 0.40\n",
            "{'S', 'male'}: support = 0.50\n",
            "{'3', 'male'}: support = 0.39\n",
            "{'1', 'female'}: support = 0.10\n",
            "{'S', 'female'}: support = 0.23\n",
            "{'3', 'female'}: support = 0.16\n",
            "{'S', '1'}: support = 0.14\n",
            "{'1', 'male'}: support = 0.14\n",
            "{'2', 'S'}: support = 0.11\n",
            "{'2', 'male'}: support = 0.12\n",
            "{'C', 'male'}: support = 0.11\n",
            "{'S', 'male', '3'}: support = 0.30\n",
            "{'2', 'S', 'male'}: support = 0.11\n"
          ]
        }
      ]
    },
    {
      "cell_type": "code",
      "source": [
        "print(\"\\nAssociation Rules:\")\n",
        "for antecedent, consequent, confidence in rules:\n",
        "    print(f\"{antecedent} => {consequent} (confidence = {confidence:.2f})\")\n"
      ],
      "metadata": {
        "colab": {
          "base_uri": "https://localhost:8080/"
        },
        "id": "T5f5UDLa62bg",
        "outputId": "73d7bb6f-e62e-45bc-ae64-bec79288900f"
      },
      "execution_count": 8,
      "outputs": [
        {
          "output_type": "stream",
          "name": "stdout",
          "text": [
            "\n",
            "Association Rules:\n",
            "{'3'} => {'S'} (confidence = 0.72)\n",
            "{'S'} => {'male'} (confidence = 0.68)\n",
            "{'male'} => {'S'} (confidence = 0.76)\n",
            "{'3'} => {'male'} (confidence = 0.71)\n",
            "{'male'} => {'3'} (confidence = 0.60)\n",
            "{'female'} => {'S'} (confidence = 0.65)\n",
            "{'S', 'male'} => {'3'} (confidence = 0.60)\n",
            "{'S', '3'} => {'male'} (confidence = 0.75)\n",
            "{'male', '3'} => {'S'} (confidence = 0.76)\n",
            "{'2', 'S'} => {'male'} (confidence = 1.00)\n",
            "{'2', 'male'} => {'S'} (confidence = 0.90)\n"
          ]
        }
      ]
    },
    {
      "cell_type": "code",
      "source": [],
      "metadata": {
        "id": "-xfGvM-r64Le"
      },
      "execution_count": null,
      "outputs": []
    }
  ]
}