{
  "nbformat": 4,
  "nbformat_minor": 0,
  "metadata": {
    "colab": {
      "provenance": []
    },
    "kernelspec": {
      "name": "python3",
      "display_name": "Python 3"
    },
    "language_info": {
      "name": "python"
    }
  },
  "cells": [
    {
      "cell_type": "markdown",
      "source": [
        "Load a Dataset, Identify Missing Values, Handle Them, and Remove Outliers"
      ],
      "metadata": {
        "id": "TlQII8_khBHP"
      }
    },
    {
      "cell_type": "code",
      "source": [
        "import pandas as pd\n",
        "import numpy as np\n",
        "import seaborn as sns\n",
        "import matplotlib.pyplot as plt\n",
        "\n",
        "# Load inbuilt dataset (Titanic)\n",
        "df = sns.load_dataset(\"titanic\")\n",
        "\n",
        "# Identify missing values\n",
        "print(\"Missing Values:\\n\", df.isnull().sum())\n",
        "\n",
        "# Handle missing values:\n",
        "# - Fill numerical columns with the median\n",
        "# - Fill categorical columns with the mode\n",
        "for col in df.select_dtypes(include=['number']).columns:\n",
        "    df[col].fillna(df[col].median(), inplace=True)\n",
        "\n",
        "for col in df.select_dtypes(include=['object']).columns:\n",
        "    df[col].fillna(df[col].mode()[0], inplace=True)\n",
        "\n",
        "# Detect and remove outliers using IQR method\n",
        "Q1 = df.select_dtypes(include=['number']).quantile(0.25)\n",
        "Q3 = df.select_dtypes(include=['number']).quantile(0.75)\n",
        "IQR = Q3 - Q1\n",
        "\n",
        "df_cleaned = df[~((df.select_dtypes(include=['number']) < (Q1 - 1.5 * IQR)) |\n",
        "                  (df.select_dtypes(include=['number']) > (Q3 + 1.5 * IQR))).any(axis=1)]\n",
        "\n",
        "print(\"\\nShape before outlier removal:\", df.shape)\n",
        "print(\"Shape after outlier removal:\", df_cleaned.shape)\n"
      ],
      "metadata": {
        "colab": {
          "base_uri": "https://localhost:8080/"
        },
        "id": "lJfMjyrihCSK",
        "outputId": "4638fb09-0b80-463e-e55d-8988b7d0972a"
      },
      "execution_count": 1,
      "outputs": [
        {
          "output_type": "stream",
          "name": "stdout",
          "text": [
            "Missing Values:\n",
            " survived         0\n",
            "pclass           0\n",
            "sex              0\n",
            "age            177\n",
            "sibsp            0\n",
            "parch            0\n",
            "fare             0\n",
            "embarked         2\n",
            "class            0\n",
            "who              0\n",
            "adult_male       0\n",
            "deck           688\n",
            "embark_town      2\n",
            "alive            0\n",
            "alone            0\n",
            "dtype: int64\n",
            "\n",
            "Shape before outlier removal: (891, 15)\n",
            "Shape after outlier removal: (577, 15)\n"
          ]
        },
        {
          "output_type": "stream",
          "name": "stderr",
          "text": [
            "<ipython-input-1-821899dad462>:16: FutureWarning: A value is trying to be set on a copy of a DataFrame or Series through chained assignment using an inplace method.\n",
            "The behavior will change in pandas 3.0. This inplace method will never work because the intermediate object on which we are setting values always behaves as a copy.\n",
            "\n",
            "For example, when doing 'df[col].method(value, inplace=True)', try using 'df.method({col: value}, inplace=True)' or df[col] = df[col].method(value) instead, to perform the operation inplace on the original object.\n",
            "\n",
            "\n",
            "  df[col].fillna(df[col].median(), inplace=True)\n",
            "<ipython-input-1-821899dad462>:19: FutureWarning: A value is trying to be set on a copy of a DataFrame or Series through chained assignment using an inplace method.\n",
            "The behavior will change in pandas 3.0. This inplace method will never work because the intermediate object on which we are setting values always behaves as a copy.\n",
            "\n",
            "For example, when doing 'df[col].method(value, inplace=True)', try using 'df.method({col: value}, inplace=True)' or df[col] = df[col].method(value) instead, to perform the operation inplace on the original object.\n",
            "\n",
            "\n",
            "  df[col].fillna(df[col].mode()[0], inplace=True)\n"
          ]
        }
      ]
    },
    {
      "cell_type": "code",
      "source": [],
      "metadata": {
        "id": "pMwK_PHAhINf"
      },
      "execution_count": null,
      "outputs": []
    }
  ]
}