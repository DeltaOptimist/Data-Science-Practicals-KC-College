{
  "nbformat": 4,
  "nbformat_minor": 0,
  "metadata": {
    "colab": {
      "provenance": []
    },
    "kernelspec": {
      "name": "python3",
      "display_name": "Python 3"
    },
    "language_info": {
      "name": "python"
    }
  },
  "cells": [
    {
      "cell_type": "markdown",
      "source": [
        "Practical 8: Simple and Multiple Linear Regression"
      ],
      "metadata": {
        "id": "ogHGbWhX3NpP"
      }
    },
    {
      "cell_type": "code",
      "execution_count": 1,
      "metadata": {
        "id": "JCM2FPrQ3M5F"
      },
      "outputs": [],
      "source": [
        "import seaborn as sns\n",
        "import statsmodels.api as sm\n"
      ]
    },
    {
      "cell_type": "code",
      "source": [
        "# Load dataset\n",
        "tips = sns.load_dataset('tips')\n"
      ],
      "metadata": {
        "id": "EvUeuCdl3RvC"
      },
      "execution_count": 2,
      "outputs": []
    },
    {
      "cell_type": "code",
      "source": [
        "# Simple Linear Regression (Tip ~ Total Bill)\n",
        "X = tips[['total_bill']]\n",
        "y = tips['tip']\n",
        "X = sm.add_constant(X)\n",
        "model_simple = sm.OLS(y, X).fit()\n",
        "print(model_simple.summary())\n",
        "\n"
      ],
      "metadata": {
        "colab": {
          "base_uri": "https://localhost:8080/"
        },
        "id": "ON1g3SRn3Tg6",
        "outputId": "4cb529ca-e3b2-476c-f506-91d9022f511d"
      },
      "execution_count": 3,
      "outputs": [
        {
          "output_type": "stream",
          "name": "stdout",
          "text": [
            "                            OLS Regression Results                            \n",
            "==============================================================================\n",
            "Dep. Variable:                    tip   R-squared:                       0.457\n",
            "Model:                            OLS   Adj. R-squared:                  0.454\n",
            "Method:                 Least Squares   F-statistic:                     203.4\n",
            "Date:                Fri, 11 Apr 2025   Prob (F-statistic):           6.69e-34\n",
            "Time:                        17:19:53   Log-Likelihood:                -350.54\n",
            "No. Observations:                 244   AIC:                             705.1\n",
            "Df Residuals:                     242   BIC:                             712.1\n",
            "Df Model:                           1                                         \n",
            "Covariance Type:            nonrobust                                         \n",
            "==============================================================================\n",
            "                 coef    std err          t      P>|t|      [0.025      0.975]\n",
            "------------------------------------------------------------------------------\n",
            "const          0.9203      0.160      5.761      0.000       0.606       1.235\n",
            "total_bill     0.1050      0.007     14.260      0.000       0.091       0.120\n",
            "==============================================================================\n",
            "Omnibus:                       20.185   Durbin-Watson:                   2.151\n",
            "Prob(Omnibus):                  0.000   Jarque-Bera (JB):               37.750\n",
            "Skew:                           0.443   Prob(JB):                     6.35e-09\n",
            "Kurtosis:                       4.711   Cond. No.                         53.0\n",
            "==============================================================================\n",
            "\n",
            "Notes:\n",
            "[1] Standard Errors assume that the covariance matrix of the errors is correctly specified.\n"
          ]
        }
      ]
    },
    {
      "cell_type": "code",
      "source": [
        "# Multiple Linear Regression (Tip ~ Total Bill + Size)\n",
        "X_multi = tips[['total_bill', 'size']]\n",
        "X_multi = sm.add_constant(X_multi)\n",
        "model_multi = sm.OLS(y, X_multi).fit()\n",
        "print(model_multi.summary())"
      ],
      "metadata": {
        "colab": {
          "base_uri": "https://localhost:8080/"
        },
        "id": "BPfz0bjD3UtM",
        "outputId": "6dbfbf73-3963-42cc-f139-f8f434e7d3ff"
      },
      "execution_count": 4,
      "outputs": [
        {
          "output_type": "stream",
          "name": "stdout",
          "text": [
            "                            OLS Regression Results                            \n",
            "==============================================================================\n",
            "Dep. Variable:                    tip   R-squared:                       0.468\n",
            "Model:                            OLS   Adj. R-squared:                  0.463\n",
            "Method:                 Least Squares   F-statistic:                     105.9\n",
            "Date:                Fri, 11 Apr 2025   Prob (F-statistic):           9.67e-34\n",
            "Time:                        17:25:42   Log-Likelihood:                -347.99\n",
            "No. Observations:                 244   AIC:                             702.0\n",
            "Df Residuals:                     241   BIC:                             712.5\n",
            "Df Model:                           2                                         \n",
            "Covariance Type:            nonrobust                                         \n",
            "==============================================================================\n",
            "                 coef    std err          t      P>|t|      [0.025      0.975]\n",
            "------------------------------------------------------------------------------\n",
            "const          0.6689      0.194      3.455      0.001       0.288       1.050\n",
            "total_bill     0.0927      0.009     10.172      0.000       0.075       0.111\n",
            "size           0.1926      0.085      2.258      0.025       0.025       0.361\n",
            "==============================================================================\n",
            "Omnibus:                       24.753   Durbin-Watson:                   2.100\n",
            "Prob(Omnibus):                  0.000   Jarque-Bera (JB):               46.169\n",
            "Skew:                           0.545   Prob(JB):                     9.43e-11\n",
            "Kurtosis:                       4.831   Cond. No.                         67.6\n",
            "==============================================================================\n",
            "\n",
            "Notes:\n",
            "[1] Standard Errors assume that the covariance matrix of the errors is correctly specified.\n"
          ]
        }
      ]
    },
    {
      "cell_type": "code",
      "source": [],
      "metadata": {
        "id": "yRXiag7-4tjY"
      },
      "execution_count": null,
      "outputs": []
    }
  ]
}